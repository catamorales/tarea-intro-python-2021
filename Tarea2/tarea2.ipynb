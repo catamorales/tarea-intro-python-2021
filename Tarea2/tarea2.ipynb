{
 "cells": [
  {
   "cell_type": "code",
   "execution_count": 27,
   "metadata": {},
   "outputs": [],
   "source": [
    "list_messier=[\"M1\", \"M200\", \"M17\", \"M31\",\"M87\", \"M104\"]"
   ]
  },
  {
   "cell_type": "code",
   "execution_count": 28,
   "metadata": {},
   "outputs": [
    {
     "name": "stdout",
     "output_type": "stream",
     "text": [
      "['M1', 'M200', 'M17', 'M31', 'M87', 'M104']\n"
     ]
    }
   ],
   "source": [
    "print(list_messier)"
   ]
  },
  {
   "cell_type": "code",
   "execution_count": 29,
   "metadata": {},
   "outputs": [],
   "source": [
    "list_messier.append(\"M97\")\n"
   ]
  },
  {
   "cell_type": "code",
   "execution_count": 30,
   "metadata": {},
   "outputs": [
    {
     "name": "stdout",
     "output_type": "stream",
     "text": [
      "M17\n"
     ]
    }
   ],
   "source": [
    "print(list_messier[2])"
   ]
  },
  {
   "cell_type": "code",
   "execution_count": 31,
   "metadata": {},
   "outputs": [
    {
     "name": "stdout",
     "output_type": "stream",
     "text": [
      "M97\n"
     ]
    }
   ],
   "source": [
    "print(list_messier[-1])"
   ]
  },
  {
   "cell_type": "code",
   "execution_count": 32,
   "metadata": {},
   "outputs": [
    {
     "name": "stdout",
     "output_type": "stream",
     "text": [
      "['M200', 'M17', 'M31']\n"
     ]
    }
   ],
   "source": [
    "print(list_messier[1:4])"
   ]
  },
  {
   "cell_type": "code",
   "execution_count": 33,
   "metadata": {},
   "outputs": [
    {
     "name": "stdout",
     "output_type": "stream",
     "text": [
      "7\n"
     ]
    }
   ],
   "source": [
    "print(len(list_messier))"
   ]
  },
  {
   "cell_type": "code",
   "execution_count": 34,
   "metadata": {},
   "outputs": [
    {
     "name": "stdout",
     "output_type": "stream",
     "text": [
      "M87 se encuentra en la lista\n"
     ]
    }
   ],
   "source": [
    "if \"M87\" in list_messier : \n",
    "    print(\"M87 se encuentra en la lista\")\n"
   ]
  },
  {
   "cell_type": "code",
   "execution_count": 35,
   "metadata": {},
   "outputs": [],
   "source": [
    "list_messier[1] = \"NGC 205\""
   ]
  },
  {
   "cell_type": "code",
   "execution_count": 36,
   "metadata": {},
   "outputs": [
    {
     "name": "stdout",
     "output_type": "stream",
     "text": [
      "['M1', 'NGC 205', 'M17', 'M31', 'M87', 'M104', 'M97']\n"
     ]
    }
   ],
   "source": [
    "print(list_messier)"
   ]
  },
  {
   "cell_type": "code",
   "execution_count": 37,
   "metadata": {},
   "outputs": [
    {
     "name": "stdout",
     "output_type": "stream",
     "text": [
      "['M1', 'M7', 'NGC 205', 'M17', 'M31', 'M87', 'M104', 'M97']\n"
     ]
    }
   ],
   "source": [
    "list_messier.insert(1,\"M7\")\n",
    "print(list_messier)"
   ]
  },
  {
   "cell_type": "code",
   "execution_count": 38,
   "metadata": {},
   "outputs": [
    {
     "name": "stdout",
     "output_type": "stream",
     "text": [
      "['M1', 'M7', 'NGC 205', 'M17', 'M87', 'M104', 'M97']\n"
     ]
    }
   ],
   "source": [
    "list_messier.remove(\"M31\")\n",
    "print(list_messier)"
   ]
  },
  {
   "cell_type": "code",
   "execution_count": 39,
   "metadata": {},
   "outputs": [
    {
     "name": "stdout",
     "output_type": "stream",
     "text": [
      "['M7', 'NGC 205', 'M17', 'M87', 'M104', 'M97']\n"
     ]
    }
   ],
   "source": [
    "list_messier.pop(0)\n",
    "print(list_messier)"
   ]
  },
  {
   "cell_type": "code",
   "execution_count": 40,
   "metadata": {},
   "outputs": [
    {
     "name": "stdout",
     "output_type": "stream",
     "text": [
      "['M7', 'NGC 205', 'M17', 'M87', 'M97']\n"
     ]
    }
   ],
   "source": [
    "del list_messier[-2]\n",
    "print(list_messier)"
   ]
  },
  {
   "cell_type": "code",
   "execution_count": 41,
   "metadata": {},
   "outputs": [],
   "source": [
    "list_messier.clear()\n"
   ]
  },
  {
   "cell_type": "code",
   "execution_count": 42,
   "metadata": {},
   "outputs": [
    {
     "name": "stdout",
     "output_type": "stream",
     "text": [
      "[]\n"
     ]
    }
   ],
   "source": [
    "print(list_messier)"
   ]
  },
  {
   "cell_type": "code",
   "execution_count": 43,
   "metadata": {},
   "outputs": [],
   "source": [
    "del list_messier"
   ]
  },
  {
   "cell_type": "code",
   "execution_count": 44,
   "metadata": {},
   "outputs": [
    {
     "ename": "NameError",
     "evalue": "name 'list_messier' is not defined",
     "output_type": "error",
     "traceback": [
      "\u001b[1;31m---------------------------------------------------------------------------\u001b[0m",
      "\u001b[1;31mNameError\u001b[0m                                 Traceback (most recent call last)",
      "\u001b[1;32m<ipython-input-44-c3dd536cd228>\u001b[0m in \u001b[0;36m<module>\u001b[1;34m\u001b[0m\n\u001b[1;32m----> 1\u001b[1;33m \u001b[0mprint\u001b[0m\u001b[1;33m(\u001b[0m\u001b[0mlist_messier\u001b[0m\u001b[1;33m)\u001b[0m\u001b[1;33m\u001b[0m\u001b[1;33m\u001b[0m\u001b[0m\n\u001b[0m",
      "\u001b[1;31mNameError\u001b[0m: name 'list_messier' is not defined"
     ]
    }
   ],
   "source": [
    "print(list_messier) ## Me dice que la lista no está definida "
   ]
  },
  {
   "cell_type": "markdown",
   "metadata": {},
   "source": [
    "Segunda parte"
   ]
  },
  {
   "cell_type": "code",
   "execution_count": 1,
   "metadata": {},
   "outputs": [],
   "source": [
    "list_masas = [3.302e23, 4.8690e24, 5.9742e24, 6.4191e23, 1.8987e27, 5.6851e26, 8.6849e25, 1.0244e26]"
   ]
  },
  {
   "cell_type": "code",
   "execution_count": 2,
   "metadata": {},
   "outputs": [
    {
     "name": "stdout",
     "output_type": "stream",
     "text": [
      "El valor maximo es 1.8987e+27 y el minimo es  3.302e+23\n"
     ]
    }
   ],
   "source": [
    "ma = max(list_masas)\n",
    "mi = min(list_masas)\n",
    "print(\"El valor maximo es\",ma, \"y el minimo es \", mi)"
   ]
  },
  {
   "cell_type": "code",
   "execution_count": 3,
   "metadata": {},
   "outputs": [
    {
     "name": "stdout",
     "output_type": "stream",
     "text": [
      "El total de la suma es 2.66831431e+27\n"
     ]
    }
   ],
   "source": [
    "s = sum(list_masas)\n",
    "print(\"El total de la suma es\", s)"
   ]
  },
  {
   "cell_type": "code",
   "execution_count": 5,
   "metadata": {},
   "outputs": [
    {
     "name": "stdout",
     "output_type": "stream",
     "text": [
      "2.66831431e+27\n"
     ]
    }
   ],
   "source": [
    "total_masas = 0\n",
    "i = 0\n",
    "for i in list_masas :\n",
    "    total_masas = i + total_masas\n",
    "    \n",
    "print(total_masas)"
   ]
  },
  {
   "cell_type": "code",
   "execution_count": 13,
   "metadata": {},
   "outputs": [
    {
     "name": "stdout",
     "output_type": "stream",
     "text": [
      "El porcentaje seria 74953.68864547295%\n"
     ]
    }
   ],
   "source": [
    "solar = 2e30\n",
    "u = solar/total_masas\n",
    "porcentaje = u *100\n",
    "print(\"El porcentaje seria \"+ str(porcentaje)+\"%\")"
   ]
  },
  {
   "cell_type": "code",
   "execution_count": 34,
   "metadata": {},
   "outputs": [],
   "source": [
    "dic_masas = {\"Mercurio\":3.302e23, \"Venus\":4.8690e24, \"Tierra\":5.9742e24, \"Marte\":6.4191e23, \"Júpiter\": 1.8987e27, \"Saturno\": 5.6851e26, \"Urano\":8.6849e25,\"Neptuno\": 1.0244e26}"
   ]
  },
  {
   "cell_type": "code",
   "execution_count": 35,
   "metadata": {},
   "outputs": [
    {
     "name": "stdout",
     "output_type": "stream",
     "text": [
      "Mercurio - 3.302e+23\n",
      "Venus - 4.869e+24\n",
      "Tierra - 5.9742e+24\n",
      "Marte - 6.4191e+23\n",
      "Júpiter - 1.8987e+27\n",
      "Saturno - 5.6851e+26\n",
      "Urano - 8.6849e+25\n",
      "Neptuno - 1.0244e+26\n"
     ]
    }
   ],
   "source": [
    "for key, value in dic_masas.items():\n",
    "    print(key,\"-\",value)"
   ]
  },
  {
   "cell_type": "code",
   "execution_count": 68,
   "metadata": {},
   "outputs": [
    {
     "name": "stdout",
     "output_type": "stream",
     "text": [
      "Neptuno - 1.0244e+26\n",
      "Neptuno - 1.0244e+26\n",
      "Neptuno - 1.0244e+26\n",
      "Neptuno - 1.0244e+26\n",
      "Neptuno - 1.0244e+26\n",
      "Neptuno - 1.0244e+26\n",
      "Neptuno - 1.0244e+26\n",
      "Neptuno - 1.0244e+26\n"
     ]
    }
   ],
   "source": [
    "v= 0\n",
    "\n",
    "while v < len(dic_masas):\n",
    "   \n",
    "    print(key, \"-\", value) \n",
    "    v += 1\n",
    "  \n",
    "##Solo me imprime a neptuno    "
   ]
  },
  {
   "cell_type": "code",
   "execution_count": 48,
   "metadata": {},
   "outputs": [
    {
     "data": {
      "text/plain": [
       "<function dict.values>"
      ]
     },
     "execution_count": 48,
     "metadata": {},
     "output_type": "execute_result"
    }
   ],
   "source": [
    "dic_masas.values"
   ]
  },
  {
   "cell_type": "code",
   "execution_count": 49,
   "metadata": {},
   "outputs": [
    {
     "name": "stdout",
     "output_type": "stream",
     "text": [
      "1.6509999999999998e-09\n",
      "2.4345e-08\n",
      "2.9870999999999997e-08\n",
      "3.2095500000000004e-09\n",
      "9.493499999999998e-06\n",
      "2.84255e-06\n",
      "4.34245e-07\n",
      "5.121999999999999e-07\n"
     ]
    }
   ],
   "source": [
    "for value in dic_masas.values():\n",
    "    t = value/(solar*100)\n",
    "    print(t)"
   ]
  },
  {
   "cell_type": "code",
   "execution_count": 55,
   "metadata": {},
   "outputs": [
    {
     "name": "stdout",
     "output_type": "stream",
     "text": [
      "2.66831431e+27\n"
     ]
    }
   ],
   "source": [
    "q = 0\n",
    "masa_total = 0\n",
    "\n",
    "for q in dic_masas.values():\n",
    "    masa_total = q + masa_total\n",
    "    \n",
    "print(masa_total)"
   ]
  },
  {
   "cell_type": "code",
   "execution_count": 63,
   "metadata": {},
   "outputs": [],
   "source": [
    "\n",
    "arch = open(\"tarea2.txt\", \"w\")\n",
    "arch.write(str(masa_total))\n",
    "arch.close()"
   ]
  },
  {
   "cell_type": "markdown",
   "metadata": {},
   "source": [
    "Opcionales"
   ]
  },
  {
   "cell_type": "code",
   "execution_count": 64,
   "metadata": {},
   "outputs": [],
   "source": [
    "lista = list(range(1,25,1))"
   ]
  },
  {
   "cell_type": "code",
   "execution_count": 65,
   "metadata": {},
   "outputs": [
    {
     "name": "stdout",
     "output_type": "stream",
     "text": [
      "[2, 4, 6, 8, 10, 12, 14, 16, 18, 20, 22, 24]\n"
     ]
    }
   ],
   "source": [
    "num_pares = []\n",
    "for i in lista:\n",
    "    if i % 2 == 0 :\n",
    "        num_pares.append(i)\n",
    "\n",
    "        "
   ]
  },
  {
   "cell_type": "code",
   "execution_count": 67,
   "metadata": {},
   "outputs": [],
   "source": [
    "archi = open(\"tarea2.txt\", \"a\")\n",
    "archi.writelines(str(num_pares))\n",
    "archi.close()"
   ]
  },
  {
   "cell_type": "code",
   "execution_count": null,
   "metadata": {},
   "outputs": [],
   "source": []
  }
 ],
 "metadata": {
  "kernelspec": {
   "display_name": "Python 3",
   "language": "python",
   "name": "python3"
  },
  "language_info": {
   "codemirror_mode": {
    "name": "ipython",
    "version": 3
   },
   "file_extension": ".py",
   "mimetype": "text/x-python",
   "name": "python",
   "nbconvert_exporter": "python",
   "pygments_lexer": "ipython3",
   "version": "3.8.5"
  }
 },
 "nbformat": 4,
 "nbformat_minor": 4
}
