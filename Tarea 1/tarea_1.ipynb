{
 "cells": [
  {
   "cell_type": "code",
   "execution_count": 1,
   "metadata": {},
   "outputs": [
    {
     "name": "stdout",
     "output_type": "stream",
     "text": [
      "Hola mundo\n"
     ]
    }
   ],
   "source": [
    "print(\"Hola mundo\")"
   ]
  },
  {
   "cell_type": "code",
   "execution_count": 27,
   "metadata": {},
   "outputs": [
    {
     "name": "stdout",
     "output_type": "stream",
     "text": [
      "Catalina Morales20Costa Rica\n",
      "Catalina Morales 20 Costa Rica\n"
     ]
    }
   ],
   "source": [
    "nombre = \"Catalina Morales\"\n",
    "edad = int(20)\n",
    "pais = \"Costa Rica\"\n",
    "print(str(nombre) +str(edad) +str(pais))\n",
    "print(nombre, edad, pais)"
   ]
  },
  {
   "cell_type": "code",
   "execution_count": 5,
   "metadata": {},
   "outputs": [
    {
     "name": "stdout",
     "output_type": "stream",
     "text": [
      "Nombre y pais son strings y la edad en este caso es un integer\n"
     ]
    }
   ],
   "source": [
    "print(\"Nombre y país son strings y la edad en este caso es un integer\")"
   ]
  },
  {
   "cell_type": "code",
   "execution_count": 8,
   "metadata": {},
   "outputs": [
    {
     "name": "stdout",
     "output_type": "stream",
     "text": [
      "En astronomía, la clasificación estelar \n",
      " es la clasificación de las estrellas en \n",
      " función de sus características espectrales.\n"
     ]
    }
   ],
   "source": [
    "print(\"En astronomía, la clasificación estelar \\n es la clasificación de las estrellas en \\n función de sus características espectrales.\" )"
   ]
  },
  {
   "cell_type": "code",
   "execution_count": 11,
   "metadata": {},
   "outputs": [
    {
     "name": "stdout",
     "output_type": "stream",
     "text": [
      "Hipergigantes---Subgigantes---Secuencia principal*\n"
     ]
    }
   ],
   "source": [
    "sep = \"---\"\n",
    "end = \"*\"\n",
    "print(\"Hipergigantes\"+sep+\"Subgigantes\"+sep+\"Secuencia principal\"+end)\n"
   ]
  },
  {
   "cell_type": "code",
   "execution_count": 19,
   "metadata": {},
   "outputs": [
    {
     "name": "stdout",
     "output_type": "stream",
     "text": [
      "La masa de Júpiter es de 1.8978244274809163e+27 kg\n"
     ]
    }
   ],
   "source": [
    "m_solar =  1.98892*10**30 #kg\n",
    "m_jupiter = float((m_solar)/1048)\n",
    "print(f\"La masa de Júpiter es de {m_jupiter} kg\")"
   ]
  },
  {
   "cell_type": "code",
   "execution_count": 26,
   "metadata": {},
   "outputs": [
    {
     "name": "stdout",
     "output_type": "stream",
     "text": [
      "False\n",
      "False\n",
      "True\n",
      "True\n",
      "True\n"
     ]
    }
   ],
   "source": [
    "tierra = 1 #AU\n",
    "mercurio = 0.389\n",
    "venus = 0.723\n",
    "marte = 1.524\n",
    "jupiter = 5.203\n",
    "saturno = 9.537\n",
    " \n",
    "\n",
    "if  mercurio > tierra:\n",
    "    print(\"True\")\n",
    "else:\n",
    "    print(\"False\")\n",
    "    \n",
    "###\n",
    "if venus > tierra :\n",
    "    print(\"True\")\n",
    "else:\n",
    "    print(\"False\")\n",
    "    \n",
    "###\n",
    "if marte > tierra :\n",
    "    print(\"True\")\n",
    "else:\n",
    "    print(\"False\")\n",
    "    \n",
    "###\n",
    "if jupiter > tierra :\n",
    "    print(\"True\")\n",
    "else:\n",
    "    print(\"False\")\n",
    "###\n",
    "if saturno> tierra :\n",
    "    print(\"True\")\n",
    "else:\n",
    "    print(\"False\")"
   ]
  },
  {
   "cell_type": "code",
   "execution_count": null,
   "metadata": {},
   "outputs": [],
   "source": []
  }
 ],
 "metadata": {
  "kernelspec": {
   "display_name": "Python 3",
   "language": "python",
   "name": "python3"
  },
  "language_info": {
   "codemirror_mode": {
    "name": "ipython",
    "version": 3
   },
   "file_extension": ".py",
   "mimetype": "text/x-python",
   "name": "python",
   "nbconvert_exporter": "python",
   "pygments_lexer": "ipython3",
   "version": "3.8.5"
  }
 },
 "nbformat": 4,
 "nbformat_minor": 4
}
